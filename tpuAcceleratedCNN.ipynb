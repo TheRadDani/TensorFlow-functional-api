{
  "nbformat": 4,
  "nbformat_minor": 0,
  "metadata": {
    "colab": {
      "provenance": [],
      "authorship_tag": "ABX9TyNQ9qZOsTe+QzIaS4tpCtuL",
      "include_colab_link": true
    },
    "kernelspec": {
      "name": "python3",
      "display_name": "Python 3"
    },
    "language_info": {
      "name": "python"
    },
    "accelerator": "GPU",
    "gpuClass": "standard"
  },
  "cells": [
    {
      "cell_type": "markdown",
      "metadata": {
        "id": "view-in-github",
        "colab_type": "text"
      },
      "source": [
        "<a href=\"https://colab.research.google.com/github/TheRadDani/TensorFlow-functional-api/blob/main/tpuAcceleratedCNN.ipynb\" target=\"_parent\"><img src=\"https://colab.research.google.com/assets/colab-badge.svg\" alt=\"Open In Colab\"/></a>"
      ]
    },
    {
      "cell_type": "code",
      "source": [
        "import tensorflow as tf"
      ],
      "metadata": {
        "id": "q5yHBJlDMP7l"
      },
      "execution_count": 1,
      "outputs": []
    },
    {
      "cell_type": "code",
      "source": [
        "tf.keras.backend.clear_session()"
      ],
      "metadata": {
        "id": "6qUdKFHmjIEH"
      },
      "execution_count": 2,
      "outputs": []
    },
    {
      "cell_type": "markdown",
      "source": [
        "List of physical devices"
      ],
      "metadata": {
        "id": "RvOTVaQNbkQg"
      }
    },
    {
      "cell_type": "code",
      "source": [
        "tf.config.experimental.list_physical_devices()"
      ],
      "metadata": {
        "colab": {
          "base_uri": "https://localhost:8080/"
        },
        "id": "5T5UH-PbeFzh",
        "outputId": "20157d5f-cf12-470e-9787-03e90248ef45"
      },
      "execution_count": 3,
      "outputs": [
        {
          "output_type": "execute_result",
          "data": {
            "text/plain": [
              "[PhysicalDevice(name='/physical_device:CPU:0', device_type='CPU'),\n",
              " PhysicalDevice(name='/physical_device:GPU:0', device_type='GPU')]"
            ]
          },
          "metadata": {},
          "execution_count": 3
        }
      ]
    },
    {
      "cell_type": "markdown",
      "source": [
        "Display TPU device if connected"
      ],
      "metadata": {
        "id": "tE-8J3H3iNIn"
      }
    },
    {
      "cell_type": "code",
      "source": [
        "import os\n",
        "\n",
        "if 'COLAB_TPU_ADDR' in os.environ:\n",
        "  tpu_address = 'grpc://' + os.environ['COLAB_TPU_ADDR']\n",
        "  print('TPU address is', tpu_address)\n",
        "else:\n",
        "  print('Not connected to a TPU runtime.')"
      ],
      "metadata": {
        "colab": {
          "base_uri": "https://localhost:8080/"
        },
        "id": "A8JZ0WhliKNu",
        "outputId": "eda3d762-5d47-46cb-831c-93ae34ad61a0"
      },
      "execution_count": 27,
      "outputs": [
        {
          "output_type": "stream",
          "name": "stdout",
          "text": [
            "TPU address is grpc://10.32.69.2:8470\n"
          ]
        }
      ]
    },
    {
      "cell_type": "markdown",
      "source": [
        "Load and preprocess data to train the model"
      ],
      "metadata": {
        "id": "_hEEp8D0XXh6"
      }
    },
    {
      "cell_type": "code",
      "source": [
        "# Load data\n",
        "(x_train, y_train), (x_test, y_test) = tf.keras.datasets.mnist.load_data()\n",
        "\n",
        "# Preprocess data\n",
        "x_train = x_train.reshape((60000, 28, 28, 1)).astype('float32') / 255.0\n",
        "x_test = x_test.reshape((10000, 28, 28, 1)).astype('float32') / 255.0\n",
        "\n",
        "# Define batch size and number of classes\n",
        "batch_size = 128\n",
        "num_classes = 10\n",
        "\n",
        "\n",
        "# Create dataset from arrays\n",
        "train_dataset = tf.data.Dataset.from_tensor_slices((x_train, y_train))\n",
        "test_dataset = tf.data.Dataset.from_tensor_slices((x_test, y_test))\n",
        "\n",
        "train_dataset = train_dataset.batch(batch_size).shuffle(1024).prefetch(tf.data.AUTOTUNE)\n",
        "test_dataset = test_dataset.batch(batch_size).shuffle(1024)"
      ],
      "metadata": {
        "colab": {
          "base_uri": "https://localhost:8080/"
        },
        "id": "cFEInJvKXjBT",
        "outputId": "02ede731-56ef-4435-a0d2-0d69937d25f4"
      },
      "execution_count": 4,
      "outputs": [
        {
          "output_type": "stream",
          "name": "stdout",
          "text": [
            "Downloading data from https://storage.googleapis.com/tensorflow/tf-keras-datasets/mnist.npz\n",
            "11490434/11490434 [==============================] - 0s 0us/step\n"
          ]
        }
      ]
    },
    {
      "cell_type": "markdown",
      "source": [
        "Visualize data"
      ],
      "metadata": {
        "id": "wxAZdZ15tHjV"
      }
    },
    {
      "cell_type": "code",
      "source": [
        "import matplotlib.pyplot as plt\n",
        "import numpy as np\n",
        "plt.imshow(x_train[np.random.randint(x_train.shape[0])+1])\n",
        "plt.show()"
      ],
      "metadata": {
        "colab": {
          "base_uri": "https://localhost:8080/",
          "height": 430
        },
        "id": "Q50k5GEwtI-H",
        "outputId": "c12ca073-2c07-4d52-c354-86eaed91af90"
      },
      "execution_count": 23,
      "outputs": [
        {
          "output_type": "display_data",
          "data": {
            "text/plain": [
              "<Figure size 640x480 with 1 Axes>"
            ],
            "image/png": "[encoded data removed]"
          },
          "metadata": {}
        }
      ]
    },
    {
      "cell_type": "code",
      "execution_count": 29,
      "metadata": {
        "colab": {
          "base_uri": "https://localhost:8080/"
        },
        "id": "YYN0zltuIB3Q",
        "outputId": "f50749a0-d0e8-49af-a836-c5efcaea645a"
      },
      "outputs": [
        {
          "output_type": "stream",
          "name": "stderr",
          "text": [
            "WARNING:tensorflow:TPU system grpc://10.32.69.2:8470 has already been initialized. Reinitializing the TPU can cause previously created variables on TPU to be lost.\n"
          ]
        },
        {
          "output_type": "stream",
          "name": "stdout",
          "text": [
            "Epoch 1/10\n",
            "468/468 - 18s - loss: 0.1932 - accuracy: 0.9411 - val_loss: 0.0677 - val_accuracy: 0.9873 - 18s/epoch - 39ms/step\n",
            "Epoch 2/10\n",
            "468/468 - 7s - loss: 0.0636 - accuracy: 0.9803 - val_loss: 0.0265 - val_accuracy: 0.9913 - 7s/epoch - 14ms/step\n",
            "Epoch 3/10\n",
            "468/468 - 8s - loss: 0.0465 - accuracy: 0.9863 - val_loss: 0.0255 - val_accuracy: 0.9917 - 8s/epoch - 17ms/step\n",
            "Epoch 4/10\n",
            "468/468 - 7s - loss: 0.0364 - accuracy: 0.9888 - val_loss: 0.0251 - val_accuracy: 0.9920 - 7s/epoch - 14ms/step\n",
            "Epoch 5/10\n",
            "468/468 - 6s - loss: 0.0334 - accuracy: 0.9893 - val_loss: 0.0287 - val_accuracy: 0.9913 - 6s/epoch - 13ms/step\n",
            "Epoch 6/10\n",
            "468/468 - 6s - loss: 0.0285 - accuracy: 0.9910 - val_loss: 0.0241 - val_accuracy: 0.9931 - 6s/epoch - 12ms/step\n",
            "Epoch 7/10\n",
            "468/468 - 6s - loss: 0.0278 - accuracy: 0.9912 - val_loss: 0.0207 - val_accuracy: 0.9937 - 6s/epoch - 13ms/step\n",
            "Epoch 8/10\n",
            "468/468 - 7s - loss: 0.0243 - accuracy: 0.9922 - val_loss: 0.0214 - val_accuracy: 0.9944 - 7s/epoch - 15ms/step\n",
            "Epoch 9/10\n",
            "468/468 - 6s - loss: 0.0219 - accuracy: 0.9930 - val_loss: 0.0193 - val_accuracy: 0.9945 - 6s/epoch - 13ms/step\n",
            "Epoch 10/10\n",
            "468/468 - 6s - loss: 0.0213 - accuracy: 0.9935 - val_loss: 0.0235 - val_accuracy: 0.9923 - 6s/epoch - 13ms/step\n"
          ]
        }
      ],
      "source": [
        "from tensorflow.keras import layers\n",
        "from tensorflow.keras.callbacks import EarlyStopping\n",
        "# Define the early stopping callback\n",
        "early_stop = EarlyStopping(monitor='val_loss', patience=3)\n",
        "\n",
        "# connect to TPU\n",
        "tpu = tf.distribute.cluster_resolver.TPUClusterResolver(tpu_address)\n",
        "tf.config.experimental_connect_to_cluster(tpu)\n",
        "tf.tpu.experimental.initialize_tpu_system(tpu)\n",
        "\n",
        "# distribute the dataset and model\n",
        "strategy = tf.distribute.TPUStrategy(tpu)\n",
        "\n",
        "# Define model\n",
        "with strategy.scope():\n",
        "    model = tf.keras.Sequential([\n",
        "        layers.Conv2D(32, (3, 3), activation='relu', padding='same', input_shape=(28, 28, 1)),\n",
        "        #batch normalization layer to speed up trainig\n",
        "        layers.BatchNormalization(),\n",
        "        layers.Conv2D(32, (3, 3), activation='relu', padding='same'),\n",
        "        layers.MaxPooling2D((2, 2)),\n",
        "        layers.Dropout(0.25),\n",
        "\n",
        "        layers.Conv2D(64, (3, 3), activation='relu', padding='same'),\n",
        "        layers.Conv2D(64, (3, 3), activation='relu', padding='same'),\n",
        "        layers.MaxPooling2D((2, 2)),\n",
        "        layers.Dropout(0.25),\n",
        "\n",
        "        layers.Flatten(),\n",
        "        layers.Dense(512, activation='relu'),\n",
        "        layers.Dropout(0.5),\n",
        "        layers.Dense(10, activation='softmax')\n",
        "    ])\n",
        "    model.compile(optimizer='adam', loss='sparse_categorical_crossentropy', metrics=['accuracy'])\n",
        "\n",
        "# Train model\n",
        "epochs = 10\n",
        "with strategy.scope():\n",
        "    @tf.function\n",
        "    def train_step(x, y):\n",
        "        with tf.GradientTape() as tape:\n",
        "            pred = model(x)\n",
        "            loss = model.compiled_loss(y, pred)\n",
        "        grads = tape.gradient(loss, model.trainable_variables)\n",
        "        model.optimizer.apply_gradients(zip(grads, model.trainable_variables))\n",
        "        model.compiled_metrics.update_state(y, pred)\n",
        "        return {m.name: m.result() for m in model.metrics}\n",
        "    \n",
        "    @tf.function\n",
        "    def test_step(x, y):\n",
        "        pred = model(x)\n",
        "        loss = model.compiled_loss(y, pred)\n",
        "        model.compiled_metrics.update_state(y, pred)\n",
        "        return {m.name: m.result() for m in model.metrics}\n",
        "    \n",
        "    history = model.fit(train_dataset.repeat(), \n",
        "                        epochs=epochs, \n",
        "                        validation_data=test_dataset.repeat(),\n",
        "                        callbacks=[early_stop],  # Pass the early stopping callback to the fit method\n",
        "                        verbose=2,\n",
        "                        steps_per_epoch=len(x_train)//batch_size,\n",
        "                        validation_steps=len(x_test)//batch_size,\n",
        "                        )  # repeat the datasets indefinitely to avoid \"Unknown shape\" errors"
      ]
    },
    {
      "cell_type": "code",
      "source": [
        "#clear memory of the datasets\n",
        "train_dataset = train_dataset.unbatch().cache()\n",
        "test_dataset = test_dataset.unbatch().cache()"
      ],
      "metadata": {
        "id": "wQ01lCRdSO95"
      },
      "execution_count": 30,
      "outputs": []
    },
    {
      "cell_type": "markdown",
      "source": [
        "train dataset batch"
      ],
      "metadata": {
        "id": "zrgL1xhgUudy"
      }
    },
    {
      "cell_type": "code",
      "source": [
        "# Get the number of elements\n",
        "num_batches = train_dataset.cardinality().numpy()\n",
        "num_elements = num_batches * batch_size\n",
        "print(\"Number of elements: \", num_elements)"
      ],
      "metadata": {
        "colab": {
          "base_uri": "https://localhost:8080/"
        },
        "id": "1_VvpoPwRcRt",
        "outputId": "2f35795e-9f0b-4a57-e69e-6fdf33357f45"
      },
      "execution_count": 31,
      "outputs": [
        {
          "output_type": "stream",
          "name": "stdout",
          "text": [
            "Number of elements:  -256\n"
          ]
        }
      ]
    },
    {
      "cell_type": "markdown",
      "source": [
        "test dataset batch"
      ],
      "metadata": {
        "id": "FigcbJZrUsCT"
      }
    },
    {
      "cell_type": "code",
      "source": [
        "# Get the number of elements\n",
        "num_batches = test_dataset.cardinality().numpy()\n",
        "num_elements = num_batches * batch_size\n",
        "print(\"Number of elements: \", num_elements)"
      ],
      "metadata": {
        "colab": {
          "base_uri": "https://localhost:8080/"
        },
        "id": "itshReadUoQS",
        "outputId": "1fd37aa1-8069-4f5a-be18-aa0e3b5568ca"
      },
      "execution_count": 32,
      "outputs": [
        {
          "output_type": "stream",
          "name": "stdout",
          "text": [
            "Number of elements:  -256\n"
          ]
        }
      ]
    },
    {
      "cell_type": "code",
      "source": [
        "import matplotlib.pyplot as plt\n",
        "# Plot the loss and accuracy curves\n",
        "plt.plot(history.history['loss'])\n",
        "plt.plot(history.history['val_loss'])\n",
        "plt.title('Model Loss')\n",
        "plt.ylabel('Loss')\n",
        "plt.xlabel('Epoch')\n",
        "plt.legend(['train', 'val'], loc='upper right')\n",
        "plt.show()\n",
        "\n",
        "plt.plot(history.history['accuracy'])\n",
        "plt.plot(history.history['val_accuracy'])\n",
        "plt.title('Model Accuracy')\n",
        "plt.ylabel('Accuracy')\n",
        "plt.xlabel('Epoch')\n",
        "plt.legend(['train', 'val'], loc='lower right')\n",
        "plt.show()"
      ],
      "metadata": {
        "colab": {
          "base_uri": "https://localhost:8080/",
          "height": 927
        },
        "id": "mD4T5kA5NyZX",
        "outputId": "d2386599-f9de-4f25-c121-cb5092673a25"
      },
      "execution_count": 33,
      "outputs": [
        {
          "output_type": "display_data",
          "data": {
            "text/plain": [
              "<Figure size 640x480 with 1 Axes>"
            ],
            "image/png": "[encoded data removed]"
          },
          "metadata": {}
        },
        {
          "output_type": "display_data",
          "data": {
            "text/plain": [
              "<Figure size 640x480 with 1 Axes>"
            ],
            "image/png": "[encoded data removed]"
          },
          "metadata": {}
        }
      ]
    },
    {
      "cell_type": "markdown",
      "source": [
        "Save model in google colab"
      ],
      "metadata": {
        "id": "7UcvlMP6WCcA"
      }
    },
    {
      "cell_type": "code",
      "source": [
        "from google.colab import drive\n",
        "drive.mount('/content/drive')\n",
        "save_path = '/content/drive/MyDrive/tpu_cnn.h5'\n",
        "model.save('tpu_cnn.h5')"
      ],
      "metadata": {
        "colab": {
          "base_uri": "https://localhost:8080/"
        },
        "id": "LlJX2DCZWElI",
        "outputId": "376846df-cfb5-4fac-c309-036d614db1d5"
      },
      "execution_count": 34,
      "outputs": [
        {
          "output_type": "stream",
          "name": "stdout",
          "text": [
            "Mounted at /content/drive\n"
          ]
        }
      ]
    },
    {
      "cell_type": "markdown",
      "source": [
        "Load .h5 model"
      ],
      "metadata": {
        "id": "623l_74iWScA"
      }
    },
    {
      "cell_type": "code",
      "source": [
        "from google.colab import drive\n",
        "drive.mount('/content/drive')\n",
        "load_path = '/content/drive/MyDrive/tpu_cnn.h5'\n",
        "from tensorflow import keras\n",
        "\n",
        "loaded_model = keras.models.load_model(load_path)"
      ],
      "metadata": {
        "colab": {
          "base_uri": "https://localhost:8080/"
        },
        "id": "Wr7sWMz0WULv",
        "outputId": "d9a14deb-a6df-4cd9-c0bc-c753c23749f0"
      },
      "execution_count": 5,
      "outputs": [
        {
          "output_type": "stream",
          "name": "stdout",
          "text": [
            "Mounted at /content/drive\n"
          ]
        }
      ]
    },
    {
      "cell_type": "markdown",
      "source": [
        "Data augmentation technique for model inference"
      ],
      "metadata": {
        "id": "gMvRkXYLOvhs"
      }
    },
    {
      "cell_type": "code",
      "source": [
        "from tensorflow.keras.preprocessing.image import ImageDataGenerator\n",
        "# Define data augmentation\n",
        "datagen = ImageDataGenerator(rotation_range=10, width_shift_range=0.1, height_shift_range=0.1, zoom_range=0.1)\n",
        "# Generate new data\n",
        "generated_data = datagen.flow(x_test, y_test, batch_size=128)"
      ],
      "metadata": {
        "id": "35bDvcubOzaA"
      },
      "execution_count": 6,
      "outputs": []
    },
    {
      "cell_type": "markdown",
      "source": [
        "free disc"
      ],
      "metadata": {
        "id": "cGIct3Z1lE13"
      }
    },
    {
      "cell_type": "code",
      "source": [
        "!df -h\n",
        "!free -h"
      ],
      "metadata": {
        "colab": {
          "base_uri": "https://localhost:8080/"
        },
        "id": "RXmiLImwVuOo",
        "outputId": "0fba3835-cd49-456a-ef76-253156dbf1ad"
      },
      "execution_count": 7,
      "outputs": [
        {
          "output_type": "stream",
          "name": "stdout",
          "text": [
            "Filesystem      Size  Used Avail Use% Mounted on\n",
            "overlay          79G   24G   55G  30% /\n",
            "tmpfs            64M     0   64M   0% /dev\n",
            "shm             5.7G     0  5.7G   0% /dev/shm\n",
            "/dev/root       2.0G  1.1G  841M  58% /usr/sbin/docker-init\n",
            "/dev/sda1        77G   44G   34G  57% /opt/bin/.nvidia\n",
            "tmpfs           6.4G   84K  6.4G   1% /var/colab\n",
            "tmpfs           6.4G     0  6.4G   0% /proc/acpi\n",
            "tmpfs           6.4G     0  6.4G   0% /proc/scsi\n",
            "tmpfs           6.4G     0  6.4G   0% /sys/firmware\n",
            "drive            15G     0   15G   0% /content/drive\n",
            "              total        used        free      shared  buff/cache   available\n",
            "Mem:           12Gi       2.5Gi       6.4Gi        13Mi       3.8Gi       9.9Gi\n",
            "Swap:            0B          0B          0B\n"
          ]
        }
      ]
    },
    {
      "cell_type": "code",
      "source": [
        "predictions = loaded_model.predict(generated_data)\n",
        "\n",
        "# Print the predictions\n",
        "print(predictions)"
      ],
      "metadata": {
        "colab": {
          "base_uri": "https://localhost:8080/"
        },
        "id": "cWNwE26kOTEq",
        "outputId": "99134865-6fdd-4462-ea9b-cfaafb3fdbf8"
      },
      "execution_count": 8,
      "outputs": [
        {
          "output_type": "stream",
          "name": "stdout",
          "text": [
            "79/79 [==============================] - 10s 32ms/step\n",
            "[[4.35313414e-05 9.42424304e-05 5.55122271e-03 ... 2.33884407e-06\n",
            "  9.83928561e-01 1.37598370e-04]\n",
            " [3.19552782e-04 1.41548142e-01 1.39076531e-01 ... 5.85731149e-01\n",
            "  1.17165102e-02 2.87811763e-05]\n",
            " [7.10061146e-03 1.87057085e-04 6.08352886e-04 ... 2.84657872e-04\n",
            "  6.18949798e-08 7.86894874e-04]\n",
            " ...\n",
            " [2.20523248e-06 3.80506963e-01 1.38745502e-01 ... 1.98733419e-01\n",
            "  3.84283578e-03 1.15811956e-04]\n",
            " [6.49408685e-06 1.45599321e-02 2.41437376e-01 ... 3.32155886e-10\n",
            "  6.42849700e-05 1.57837068e-13]\n",
            " [1.27638318e-02 5.15514694e-04 1.78428695e-01 ... 3.31062032e-03\n",
            "  2.21366849e-04 2.30021223e-01]]\n"
          ]
        }
      ]
    },
    {
      "cell_type": "code",
      "source": [
        "import numpy as np\n",
        "import matplotlib.pyplot as plt\n",
        "\n",
        "images, labels = next(generated_data) # get the first batch\n",
        "# Define a mapping from label index to label name\n",
        "label_names = [\n",
        "    '0', '1', '2', '3', '4', '5', '6', '7', '8', '9'\n",
        "]\n",
        "# Plot the images and predictions\n",
        "fig, axes = plt.subplots(nrows=1, ncols=5, figsize=(15, 5))\n",
        "for i in range(5):\n",
        "    image = images[i].reshape(28, 28)\n",
        "    label = label_names[labels[i]]\n",
        "    prediction = label_names[np.argmax(predictions[i])]\n",
        "    axes[i].imshow(image, cmap='gray')\n",
        "    axes[i].set_title(f\"Label: {label}\\nPrediction: {prediction}\")\n",
        "plt.show()"
      ],
      "metadata": {
        "colab": {
          "base_uri": "https://localhost:8080/",
          "height": 182
        },
        "id": "zlwuHj5MYUf6",
        "outputId": "07a16650-e70b-43a8-a227-334c325824f8"
      },
      "execution_count": 9,
      "outputs": [
        {
          "output_type": "display_data",
          "data": {
            "text/plain": [
              "<Figure size 1500x500 with 5 Axes>"
            ],
            "image/png": "[encoded data removed]"
          },
          "metadata": {}
        }
      ]
    }
  ]
}